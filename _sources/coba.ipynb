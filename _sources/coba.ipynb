{
 "cells": [
  {
   "cell_type": "markdown",
   "id": "2bcd6f26",
   "metadata": {},
   "source": [
    "# coba"
   ]
  }
 ],
 "metadata": {
  "language_info": {
   "name": "python"
  }
 },
 "nbformat": 4,
 "nbformat_minor": 5
}
